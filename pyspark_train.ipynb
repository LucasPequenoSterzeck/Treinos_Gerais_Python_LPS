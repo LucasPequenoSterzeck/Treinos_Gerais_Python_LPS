{
  "nbformat": 4,
  "nbformat_minor": 0,
  "metadata": {
    "colab": {
      "provenance": [],
      "authorship_tag": "ABX9TyO1WQ09mwbIpTS0Hv4Ny1px",
      "include_colab_link": true
    },
    "kernelspec": {
      "name": "python3",
      "display_name": "Python 3"
    },
    "language_info": {
      "name": "python"
    }
  },
  "cells": [
    {
      "cell_type": "markdown",
      "metadata": {
        "id": "view-in-github",
        "colab_type": "text"
      },
      "source": [
        "<a href=\"https://colab.research.google.com/github/lucasvx273/Treinos_Gerais_Python_LPS/blob/main/pyspark_train.ipynb\" target=\"_parent\"><img src=\"https://colab.research.google.com/assets/colab-badge.svg\" alt=\"Open In Colab\"/></a>"
      ]
    },
    {
      "cell_type": "markdown",
      "source": [
        "Notebook de estudo para a biblioteca Spark"
      ],
      "metadata": {
        "id": "-K__Q03KJvIf"
      }
    },
    {
      "cell_type": "code",
      "execution_count": null,
      "metadata": {
        "id": "pXCbTNuIJusK"
      },
      "outputs": [],
      "source": [
        "# Instalando o java\n",
        "!apt-get install openjdk-8-jdk-headless -qq > /dev/null"
      ]
    },
    {
      "cell_type": "code",
      "source": [
        "# baixar versão mais recente do spark\n",
        "!pip install pyspark -q"
      ],
      "metadata": {
        "colab": {
          "base_uri": "https://localhost:8080/"
        },
        "id": "172W00s-J7_g",
        "outputId": "29ca7ad6-aaf0-4fee-ccdd-443d4331eff8"
      },
      "execution_count": null,
      "outputs": [
        {
          "output_type": "stream",
          "name": "stdout",
          "text": [
            "\u001b[K     |████████████████████████████████| 281.4 MB 49 kB/s \n",
            "\u001b[K     |████████████████████████████████| 199 kB 69.1 MB/s \n",
            "\u001b[?25h  Building wheel for pyspark (setup.py) ... \u001b[?25l\u001b[?25hdone\n"
          ]
        }
      ]
    },
    {
      "cell_type": "code",
      "source": [
        "# baixando versao spark\n",
        "!wget -q https://dlcdn.apache.org/spark/spark-3.3.1/spark-3.3.1-bin-hadoop3.tgz\n"
      ],
      "metadata": {
        "id": "WAPERcwFKjlH"
      },
      "execution_count": null,
      "outputs": []
    },
    {
      "cell_type": "code",
      "source": [
        "# Deszipando spark\n",
        "!tar xf /content/spark-3.3.1-bin-hadoop3.tgz"
      ],
      "metadata": {
        "id": "UEMdXeSxMJsC"
      },
      "execution_count": null,
      "outputs": []
    },
    {
      "cell_type": "code",
      "source": [
        "# Criando variáveis do ambiente\n",
        "import os\n",
        "os.environ[\"JAVA_HOME\"] = \"/usr/lib/jvm/java-8-openjdk-amd64\"\n",
        "os.environ[\"SPARK_HOME\"] = \"/content/spark-3.3.1-bin-hadoop3\"\n"
      ],
      "metadata": {
        "id": "NCz3ebvDKNVm"
      },
      "execution_count": null,
      "outputs": []
    },
    {
      "cell_type": "code",
      "source": [
        "# Instalar a lib findspark que ajuda a localizar o Spark no sistema e importar:\n",
        "!pip install -q findspark"
      ],
      "metadata": {
        "id": "JaMM0c_kKu9Y"
      },
      "execution_count": null,
      "outputs": []
    },
    {
      "cell_type": "code",
      "source": [
        "# Importando findspark\n",
        "import findspark\n",
        "findspark.init()"
      ],
      "metadata": {
        "id": "5K3_-QdUK5Gn"
      },
      "execution_count": null,
      "outputs": []
    },
    {
      "cell_type": "code",
      "source": [
        "# criar Spark session\n",
        "from pyspark.sql import SparkSession\n",
        "\n",
        "spark = SparkSession.builder\\\n",
        "        .master('local')\\\n",
        "        .appName('sparkcolab')\\\n",
        "        .getOrCreate()"
      ],
      "metadata": {
        "id": "M4VIS6gaPJZY"
      },
      "execution_count": null,
      "outputs": []
    },
    {
      "cell_type": "code",
      "source": [
        "# importar um dataset\n",
        "from google.colab import files\n",
        "arquivo = files.upload()"
      ],
      "metadata": {
        "colab": {
          "base_uri": "https://localhost:8080/",
          "height": 73
        },
        "id": "MOLqnI9vP1pG",
        "outputId": "769d7464-f108-480b-883a-9afbba753e4b"
      },
      "execution_count": null,
      "outputs": [
        {
          "output_type": "display_data",
          "data": {
            "text/plain": [
              "<IPython.core.display.HTML object>"
            ],
            "text/html": [
              "\n",
              "     <input type=\"file\" id=\"files-2fb6f1d6-450f-4c4e-9092-94eacb8c9792\" name=\"files[]\" multiple disabled\n",
              "        style=\"border:none\" />\n",
              "     <output id=\"result-2fb6f1d6-450f-4c4e-9092-94eacb8c9792\">\n",
              "      Upload widget is only available when the cell has been executed in the\n",
              "      current browser session. Please rerun this cell to enable.\n",
              "      </output>\n",
              "      <script>// Copyright 2017 Google LLC\n",
              "//\n",
              "// Licensed under the Apache License, Version 2.0 (the \"License\");\n",
              "// you may not use this file except in compliance with the License.\n",
              "// You may obtain a copy of the License at\n",
              "//\n",
              "//      http://www.apache.org/licenses/LICENSE-2.0\n",
              "//\n",
              "// Unless required by applicable law or agreed to in writing, software\n",
              "// distributed under the License is distributed on an \"AS IS\" BASIS,\n",
              "// WITHOUT WARRANTIES OR CONDITIONS OF ANY KIND, either express or implied.\n",
              "// See the License for the specific language governing permissions and\n",
              "// limitations under the License.\n",
              "\n",
              "/**\n",
              " * @fileoverview Helpers for google.colab Python module.\n",
              " */\n",
              "(function(scope) {\n",
              "function span(text, styleAttributes = {}) {\n",
              "  const element = document.createElement('span');\n",
              "  element.textContent = text;\n",
              "  for (const key of Object.keys(styleAttributes)) {\n",
              "    element.style[key] = styleAttributes[key];\n",
              "  }\n",
              "  return element;\n",
              "}\n",
              "\n",
              "// Max number of bytes which will be uploaded at a time.\n",
              "const MAX_PAYLOAD_SIZE = 100 * 1024;\n",
              "\n",
              "function _uploadFiles(inputId, outputId) {\n",
              "  const steps = uploadFilesStep(inputId, outputId);\n",
              "  const outputElement = document.getElementById(outputId);\n",
              "  // Cache steps on the outputElement to make it available for the next call\n",
              "  // to uploadFilesContinue from Python.\n",
              "  outputElement.steps = steps;\n",
              "\n",
              "  return _uploadFilesContinue(outputId);\n",
              "}\n",
              "\n",
              "// This is roughly an async generator (not supported in the browser yet),\n",
              "// where there are multiple asynchronous steps and the Python side is going\n",
              "// to poll for completion of each step.\n",
              "// This uses a Promise to block the python side on completion of each step,\n",
              "// then passes the result of the previous step as the input to the next step.\n",
              "function _uploadFilesContinue(outputId) {\n",
              "  const outputElement = document.getElementById(outputId);\n",
              "  const steps = outputElement.steps;\n",
              "\n",
              "  const next = steps.next(outputElement.lastPromiseValue);\n",
              "  return Promise.resolve(next.value.promise).then((value) => {\n",
              "    // Cache the last promise value to make it available to the next\n",
              "    // step of the generator.\n",
              "    outputElement.lastPromiseValue = value;\n",
              "    return next.value.response;\n",
              "  });\n",
              "}\n",
              "\n",
              "/**\n",
              " * Generator function which is called between each async step of the upload\n",
              " * process.\n",
              " * @param {string} inputId Element ID of the input file picker element.\n",
              " * @param {string} outputId Element ID of the output display.\n",
              " * @return {!Iterable<!Object>} Iterable of next steps.\n",
              " */\n",
              "function* uploadFilesStep(inputId, outputId) {\n",
              "  const inputElement = document.getElementById(inputId);\n",
              "  inputElement.disabled = false;\n",
              "\n",
              "  const outputElement = document.getElementById(outputId);\n",
              "  outputElement.innerHTML = '';\n",
              "\n",
              "  const pickedPromise = new Promise((resolve) => {\n",
              "    inputElement.addEventListener('change', (e) => {\n",
              "      resolve(e.target.files);\n",
              "    });\n",
              "  });\n",
              "\n",
              "  const cancel = document.createElement('button');\n",
              "  inputElement.parentElement.appendChild(cancel);\n",
              "  cancel.textContent = 'Cancel upload';\n",
              "  const cancelPromise = new Promise((resolve) => {\n",
              "    cancel.onclick = () => {\n",
              "      resolve(null);\n",
              "    };\n",
              "  });\n",
              "\n",
              "  // Wait for the user to pick the files.\n",
              "  const files = yield {\n",
              "    promise: Promise.race([pickedPromise, cancelPromise]),\n",
              "    response: {\n",
              "      action: 'starting',\n",
              "    }\n",
              "  };\n",
              "\n",
              "  cancel.remove();\n",
              "\n",
              "  // Disable the input element since further picks are not allowed.\n",
              "  inputElement.disabled = true;\n",
              "\n",
              "  if (!files) {\n",
              "    return {\n",
              "      response: {\n",
              "        action: 'complete',\n",
              "      }\n",
              "    };\n",
              "  }\n",
              "\n",
              "  for (const file of files) {\n",
              "    const li = document.createElement('li');\n",
              "    li.append(span(file.name, {fontWeight: 'bold'}));\n",
              "    li.append(span(\n",
              "        `(${file.type || 'n/a'}) - ${file.size} bytes, ` +\n",
              "        `last modified: ${\n",
              "            file.lastModifiedDate ? file.lastModifiedDate.toLocaleDateString() :\n",
              "                                    'n/a'} - `));\n",
              "    const percent = span('0% done');\n",
              "    li.appendChild(percent);\n",
              "\n",
              "    outputElement.appendChild(li);\n",
              "\n",
              "    const fileDataPromise = new Promise((resolve) => {\n",
              "      const reader = new FileReader();\n",
              "      reader.onload = (e) => {\n",
              "        resolve(e.target.result);\n",
              "      };\n",
              "      reader.readAsArrayBuffer(file);\n",
              "    });\n",
              "    // Wait for the data to be ready.\n",
              "    let fileData = yield {\n",
              "      promise: fileDataPromise,\n",
              "      response: {\n",
              "        action: 'continue',\n",
              "      }\n",
              "    };\n",
              "\n",
              "    // Use a chunked sending to avoid message size limits. See b/62115660.\n",
              "    let position = 0;\n",
              "    do {\n",
              "      const length = Math.min(fileData.byteLength - position, MAX_PAYLOAD_SIZE);\n",
              "      const chunk = new Uint8Array(fileData, position, length);\n",
              "      position += length;\n",
              "\n",
              "      const base64 = btoa(String.fromCharCode.apply(null, chunk));\n",
              "      yield {\n",
              "        response: {\n",
              "          action: 'append',\n",
              "          file: file.name,\n",
              "          data: base64,\n",
              "        },\n",
              "      };\n",
              "\n",
              "      let percentDone = fileData.byteLength === 0 ?\n",
              "          100 :\n",
              "          Math.round((position / fileData.byteLength) * 100);\n",
              "      percent.textContent = `${percentDone}% done`;\n",
              "\n",
              "    } while (position < fileData.byteLength);\n",
              "  }\n",
              "\n",
              "  // All done.\n",
              "  yield {\n",
              "    response: {\n",
              "      action: 'complete',\n",
              "    }\n",
              "  };\n",
              "}\n",
              "\n",
              "scope.google = scope.google || {};\n",
              "scope.google.colab = scope.google.colab || {};\n",
              "scope.google.colab._files = {\n",
              "  _uploadFiles,\n",
              "  _uploadFilesContinue,\n",
              "};\n",
              "})(self);\n",
              "</script> "
            ]
          },
          "metadata": {}
        },
        {
          "output_type": "stream",
          "name": "stdout",
          "text": [
            "Saving output.csv to output.csv\n"
          ]
        }
      ]
    },
    {
      "cell_type": "markdown",
      "source": [
        "O arquivo que eu selecionei é CSV, as possibilidades de arquivo são diversas, alguns são:\n",
        "\n",
        "- CSV\n",
        "- TXT\n",
        "- PARQUET\n",
        "- AVRO\n",
        "- Banco de dados"
      ],
      "metadata": {
        "id": "df0_vkCXQXZv"
      }
    },
    {
      "cell_type": "markdown",
      "source": [
        "Agora na tratativa dos dados temos duas formas de trabalhar:\n",
        "\n",
        "Considerando que estamos em um local aonde temos um Data Lake, como Azure ou AWS... \n",
        "\n",
        "- Streaming\n",
        "> ETL (Spark) Lê os arquivos presentes do Data Lake e ocorre um processamento em tempo real.\n",
        "\n",
        "\n",
        "- Batch\n",
        "> Schedule Lê os arquivos presentes do Data Lake que foram programadas"
      ],
      "metadata": {
        "id": "UIDOSGfVQop_"
      }
    },
    {
      "cell_type": "code",
      "source": [
        "# criar DataFrame\n",
        "\n",
        "df = spark.read.csv('/content/output.csv', header=False, inferSchema=True, sep=',')"
      ],
      "metadata": {
        "id": "v-H_JIuRP11F"
      },
      "execution_count": null,
      "outputs": []
    },
    {
      "cell_type": "code",
      "source": [
        "df.printSchema()"
      ],
      "metadata": {
        "colab": {
          "base_uri": "https://localhost:8080/"
        },
        "id": "eF271fhWRWVW",
        "outputId": "b39bf954-4b81-4501-b9f2-8ef5151454e0"
      },
      "execution_count": null,
      "outputs": [
        {
          "output_type": "stream",
          "name": "stdout",
          "text": [
            "root\n",
            " |-- _c0: string (nullable = true)\n",
            " |-- _c1: string (nullable = true)\n",
            "\n"
          ]
        }
      ]
    },
    {
      "cell_type": "code",
      "source": [
        "df.show()"
      ],
      "metadata": {
        "colab": {
          "base_uri": "https://localhost:8080/"
        },
        "id": "MUxE-euZSJ1W",
        "outputId": "b5d4e656-b079-4d1a-fe51-98ab2aed3382"
      },
      "execution_count": null,
      "outputs": [
        {
          "output_type": "stream",
          "name": "stdout",
          "text": [
            "+-----+--------------------+\n",
            "|  _c0|                 _c1|\n",
            "+-----+--------------------+\n",
            "|  1OK|[10101472647, 55,...|\n",
            "|  2OK|[10101472705, 55,...|\n",
            "|2GALE|['GALE:1010147522...|\n",
            "|  4OK|[10101483019, 55,...|\n",
            "|4GALE|['GALE:1010148560...|\n",
            "|  5OK|[10101490619, 55,...|\n",
            "|5GALE|['GALE:1010149279...|\n",
            "|  3OK|[10101480451, 55,...|\n",
            "|3GALE|['GALE:1010149287...|\n",
            "|  6OK|[10101495456, 55,...|\n",
            "|6GALE|['GALE:1010149822...|\n",
            "+-----+--------------------+\n",
            "\n"
          ]
        }
      ]
    },
    {
      "cell_type": "code",
      "source": [
        "from pyspark.sql.functions import *\n",
        "import pyspark\n",
        "\n",
        "split_cols = pyspark.sql.functions.split(df['_c1'], ',')\n",
        "  \n",
        "# applying split() using select()\n",
        "df2 = df.select('_c0',\n",
        "                split_cols.getItem(0).alias('ID'),\n",
        "                split_cols.getItem(1).alias('Value'),\n",
        "                split_cols.getItem(2).alias('Coin'),\n",
        "                split_cols.getItem(3).alias('Move'),\n",
        "                split_cols.getItem(4).alias('Candle'),\n",
        "                split_cols.getItem(5).alias('Result'))\n",
        "  \n",
        "# show df3\n",
        "df2.show()"
      ],
      "metadata": {
        "colab": {
          "base_uri": "https://localhost:8080/"
        },
        "id": "juudnreiShZW",
        "outputId": "d126b3f6-a0c9-49fd-e344-ee5d2e86063f"
      },
      "execution_count": null,
      "outputs": [
        {
          "output_type": "stream",
          "name": "stdout",
          "text": [
            "+-----+--------------------+-----+-------------+-------+------+-------+\n",
            "|  _c0|                  ID|Value|         Coin|   Move|Candle| Result|\n",
            "+-----+--------------------+-----+-------------+-------+------+-------+\n",
            "|  1OK|        [10101472647|   55| 'EURUSD-OTC'| 'call'|     1|  'WIN'|\n",
            "|  2OK|        [10101472705|   55| 'EURUSD-OTC'|  'put'|     1| 'LOSS'|\n",
            "|2GALE|['GALE:1010147522...| 82.5| 'EURUSD-OTC'|  'put'|     1| 'LOSS'|\n",
            "|  4OK|        [10101483019|   55| 'EURUSD-OTC'| 'call'|     1| 'LOSS'|\n",
            "|4GALE|['GALE:1010148560...| 82.5| 'EURUSD-OTC'| 'call'|     1| 'LOSS'|\n",
            "|  5OK|        [10101490619|   55| 'EURUSD-OTC'|  'put'|     1| 'LOSS'|\n",
            "|5GALE|['GALE:1010149279...| 82.5| 'EURUSD-OTC'|  'put'|     1| 'LOSS'|\n",
            "|  3OK|        [10101480451|   55| 'EURUSD-OTC'|  'put'|     5| 'LOSS'|\n",
            "|3GALE|['GALE:1010149287...| 82.5| 'EURUSD-OTC'|  'put'|     5|  'WIN'|\n",
            "|  6OK|        [10101495456|   55| 'EURUSD-OTC'| 'call'|     1| 'LOSS'|\n",
            "|6GALE|['GALE:1010149822...| 82.5| 'EURUSD-OTC'| 'call'|     1|  'WIN'|\n",
            "+-----+--------------------+-----+-------------+-------+------+-------+\n",
            "\n"
          ]
        }
      ]
    },
    {
      "cell_type": "code",
      "source": [
        "# Mudar tipo da coluna Candle para INTEIRO (INT)\n",
        "df2 = df2.withColumn('Candle', df2['Candle'].cast('int'))\n",
        "\n",
        "# Renomeando primeira coluna\n",
        "df2 = df2.withColumnRenamed('_c0','Numb')\n",
        "\n",
        "df2.show()"
      ],
      "metadata": {
        "colab": {
          "base_uri": "https://localhost:8080/"
        },
        "id": "A_VJG2oyUCxP",
        "outputId": "f5433b12-d1a8-472c-af4a-149271ab0b40"
      },
      "execution_count": null,
      "outputs": [
        {
          "output_type": "stream",
          "name": "stdout",
          "text": [
            "+-----+--------------------+-----+-------------+-------+------+-------+\n",
            "| Numb|                  ID|Value|         Coin|   Move|Candle| Result|\n",
            "+-----+--------------------+-----+-------------+-------+------+-------+\n",
            "|  1OK|        [10101472647|   55| 'EURUSD-OTC'| 'call'|     1|  'WIN'|\n",
            "|  2OK|        [10101472705|   55| 'EURUSD-OTC'|  'put'|     1| 'LOSS'|\n",
            "|2GALE|['GALE:1010147522...| 82.5| 'EURUSD-OTC'|  'put'|     1| 'LOSS'|\n",
            "|  4OK|        [10101483019|   55| 'EURUSD-OTC'| 'call'|     1| 'LOSS'|\n",
            "|4GALE|['GALE:1010148560...| 82.5| 'EURUSD-OTC'| 'call'|     1| 'LOSS'|\n",
            "|  5OK|        [10101490619|   55| 'EURUSD-OTC'|  'put'|     1| 'LOSS'|\n",
            "|5GALE|['GALE:1010149279...| 82.5| 'EURUSD-OTC'|  'put'|     1| 'LOSS'|\n",
            "|  3OK|        [10101480451|   55| 'EURUSD-OTC'|  'put'|     5| 'LOSS'|\n",
            "|3GALE|['GALE:1010149287...| 82.5| 'EURUSD-OTC'|  'put'|     5|  'WIN'|\n",
            "|  6OK|        [10101495456|   55| 'EURUSD-OTC'| 'call'|     1| 'LOSS'|\n",
            "|6GALE|['GALE:1010149822...| 82.5| 'EURUSD-OTC'| 'call'|     1|  'WIN'|\n",
            "+-----+--------------------+-----+-------------+-------+------+-------+\n",
            "\n"
          ]
        }
      ]
    },
    {
      "cell_type": "code",
      "source": [
        "# filtro\n",
        "\n",
        "df2.filter(df2.Result.contains('WIN')).show()"
      ],
      "metadata": {
        "colab": {
          "base_uri": "https://localhost:8080/"
        },
        "id": "FpXNmiBIUTgt",
        "outputId": "36141bc3-4c34-4356-bb93-2a0b47a98f8b"
      },
      "execution_count": null,
      "outputs": [
        {
          "output_type": "stream",
          "name": "stdout",
          "text": [
            "+-----+--------------------+-----+-------------+-------+------+------+\n",
            "| Numb|                  ID|Value|         Coin|   Move|Candle|Result|\n",
            "+-----+--------------------+-----+-------------+-------+------+------+\n",
            "|  1OK|        [10101472647|   55| 'EURUSD-OTC'| 'call'|     1| 'WIN'|\n",
            "|3GALE|['GALE:1010149287...| 82.5| 'EURUSD-OTC'|  'put'|     5| 'WIN'|\n",
            "|6GALE|['GALE:1010149822...| 82.5| 'EURUSD-OTC'| 'call'|     1| 'WIN'|\n",
            "+-----+--------------------+-----+-------------+-------+------+------+\n",
            "\n"
          ]
        }
      ]
    },
    {
      "cell_type": "code",
      "source": [
        "# Valor máximo do Value\n",
        "df2_max = df2.agg(max('Value').alias('Max_Values'))\n",
        "df2_max.show()\n",
        "\n",
        "# Valor mínimo do Value\n",
        "df2_min = df2.agg(min('Value').alias('Max_Values'))\n",
        "df2_min.show()"
      ],
      "metadata": {
        "colab": {
          "base_uri": "https://localhost:8080/"
        },
        "id": "aB2pfWImZNs1",
        "outputId": "5393d231-b43c-4d85-e45d-cdec042b970c"
      },
      "execution_count": null,
      "outputs": [
        {
          "output_type": "stream",
          "name": "stdout",
          "text": [
            "+----------+\n",
            "|Max_Values|\n",
            "+----------+\n",
            "|      82.5|\n",
            "+----------+\n",
            "\n",
            "+----------+\n",
            "|Max_Values|\n",
            "+----------+\n",
            "|        55|\n",
            "+----------+\n",
            "\n"
          ]
        }
      ]
    },
    {
      "cell_type": "code",
      "source": [
        "# Contar quantidades de apostas realizadas por Value\n",
        "\n",
        "df2_n = df2.groupBy('Value').count() \n",
        "df2_n.show()"
      ],
      "metadata": {
        "colab": {
          "base_uri": "https://localhost:8080/"
        },
        "id": "vExxSR8oZbGE",
        "outputId": "48c8d89d-0181-4360-975e-829fa9ecee15"
      },
      "execution_count": null,
      "outputs": [
        {
          "output_type": "stream",
          "name": "stdout",
          "text": [
            "+-----+-----+\n",
            "|Value|count|\n",
            "+-----+-----+\n",
            "| 82.5|    5|\n",
            "|   55|    6|\n",
            "+-----+-----+\n",
            "\n"
          ]
        }
      ]
    },
    {
      "cell_type": "code",
      "source": [
        "# Reordenando por Ascendente e Descendente\n",
        "\n",
        "df2_n.orderBy(col('count').desc()).show()\n",
        "\n",
        "df2_n.orderBy(col('count').asc()).show()"
      ],
      "metadata": {
        "colab": {
          "base_uri": "https://localhost:8080/"
        },
        "id": "zWOl4dLEa3zO",
        "outputId": "c4785aee-f684-450e-9ebe-45629d323f70"
      },
      "execution_count": null,
      "outputs": [
        {
          "output_type": "stream",
          "name": "stdout",
          "text": [
            "+-----+-----+\n",
            "|Value|count|\n",
            "+-----+-----+\n",
            "|   55|    6|\n",
            "| 82.5|    5|\n",
            "+-----+-----+\n",
            "\n",
            "+-----+-----+\n",
            "|Value|count|\n",
            "+-----+-----+\n",
            "| 82.5|    5|\n",
            "|   55|    6|\n",
            "+-----+-----+\n",
            "\n"
          ]
        }
      ]
    }
  ]
}